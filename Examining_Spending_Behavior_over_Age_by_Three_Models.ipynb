{
  "nbformat": 4,
  "nbformat_minor": 0,
  "metadata": {
    "colab": {
      "name": "Examining Spending Behavior over Age by Three Models.ipynb",
      "provenance": [],
      "collapsed_sections": [],
      "toc_visible": true,
      "authorship_tag": "ABX9TyO+ywQms87Do3lr5lKeSlEk",
      "include_colab_link": true
    },
    "kernelspec": {
      "name": "python3",
      "display_name": "Python 3"
    },
    "language_info": {
      "name": "python"
    }
  },
  "cells": [
    {
      "cell_type": "markdown",
      "metadata": {
        "id": "view-in-github",
        "colab_type": "text"
      },
      "source": [
        "<a href=\"https://colab.research.google.com/github/Chen-Portfolio/Examining-Spending-Behavior-Over-Age-/blob/main/Examining_Spending_Behavior_over_Age_by_Three_Models.ipynb\" target=\"_parent\"><img src=\"https://colab.research.google.com/assets/colab-badge.svg\" alt=\"Open In Colab\"/></a>"
      ]
    },
    {
      "cell_type": "markdown",
      "metadata": {
        "id": "FEqjjr9KRkyU"
      },
      "source": [
        "# Dataset Description"
      ]
    },
    {
      "cell_type": "markdown",
      "metadata": {
        "id": "nqf2JIk9ka9Q"
      },
      "source": [
        "## Dataset contains customers' spend and age, and the project is to figure out how spending habits change with age for customers, and how well different models can capture the relationship"
      ]
    },
    {
      "cell_type": "markdown",
      "metadata": {
        "id": "I3V-K8tUSZ1g"
      },
      "source": [
        "# Import Libraries and Dataset"
      ]
    },
    {
      "cell_type": "code",
      "metadata": {
        "id": "x-WbIw6ARUyb"
      },
      "source": [
        "import pandas as pd"
      ],
      "execution_count": null,
      "outputs": []
    },
    {
      "cell_type": "code",
      "metadata": {
        "id": "ewm8TSMFShrh"
      },
      "source": [
        "df = pd.read_csv('age_spend.csv')"
      ],
      "execution_count": null,
      "outputs": []
    },
    {
      "cell_type": "code",
      "metadata": {
        "colab": {
          "base_uri": "https://localhost:8080/",
          "height": 202
        },
        "id": "0DUebxMtSmR6",
        "outputId": "e145eb59-79d3-4370-d841-fe925cd69a88"
      },
      "source": [
        "df.head()"
      ],
      "execution_count": null,
      "outputs": [
        {
          "output_type": "execute_result",
          "data": {
            "text/html": [
              "<div>\n",
              "<style scoped>\n",
              "    .dataframe tbody tr th:only-of-type {\n",
              "        vertical-align: middle;\n",
              "    }\n",
              "\n",
              "    .dataframe tbody tr th {\n",
              "        vertical-align: top;\n",
              "    }\n",
              "\n",
              "    .dataframe thead th {\n",
              "        text-align: right;\n",
              "    }\n",
              "</style>\n",
              "<table border=\"1\" class=\"dataframe\">\n",
              "  <thead>\n",
              "    <tr style=\"text-align: right;\">\n",
              "      <th></th>\n",
              "      <th>spend</th>\n",
              "      <th>age</th>\n",
              "    </tr>\n",
              "  </thead>\n",
              "  <tbody>\n",
              "    <tr>\n",
              "      <th>0</th>\n",
              "      <td>2725.0</td>\n",
              "      <td>20.0</td>\n",
              "    </tr>\n",
              "    <tr>\n",
              "      <th>1</th>\n",
              "      <td>3010.0</td>\n",
              "      <td>38.0</td>\n",
              "    </tr>\n",
              "    <tr>\n",
              "      <th>2</th>\n",
              "      <td>2782.0</td>\n",
              "      <td>25.0</td>\n",
              "    </tr>\n",
              "    <tr>\n",
              "      <th>3</th>\n",
              "      <td>2809.0</td>\n",
              "      <td>31.0</td>\n",
              "    </tr>\n",
              "    <tr>\n",
              "      <th>4</th>\n",
              "      <td>2774.0</td>\n",
              "      <td>54.0</td>\n",
              "    </tr>\n",
              "  </tbody>\n",
              "</table>\n",
              "</div>"
            ],
            "text/plain": [
              "    spend   age\n",
              "0  2725.0  20.0\n",
              "1  3010.0  38.0\n",
              "2  2782.0  25.0\n",
              "3  2809.0  31.0\n",
              "4  2774.0  54.0"
            ]
          },
          "metadata": {
            "tags": []
          },
          "execution_count": 3
        }
      ]
    },
    {
      "cell_type": "code",
      "metadata": {
        "colab": {
          "base_uri": "https://localhost:8080/"
        },
        "id": "J4G5nQflT1di",
        "outputId": "ffa8d25a-c907-4147-c935-e8de96d46b27"
      },
      "source": [
        "df.shape"
      ],
      "execution_count": null,
      "outputs": [
        {
          "output_type": "execute_result",
          "data": {
            "text/plain": [
              "(1000, 2)"
            ]
          },
          "metadata": {
            "tags": []
          },
          "execution_count": 4
        }
      ]
    },
    {
      "cell_type": "code",
      "metadata": {
        "colab": {
          "base_uri": "https://localhost:8080/",
          "height": 295
        },
        "id": "Dq0T3xfHWhSb",
        "outputId": "491165b5-7320-498d-ffd7-cc491b15976e"
      },
      "source": [
        "df.describe()"
      ],
      "execution_count": null,
      "outputs": [
        {
          "output_type": "execute_result",
          "data": {
            "text/html": [
              "<div>\n",
              "<style scoped>\n",
              "    .dataframe tbody tr th:only-of-type {\n",
              "        vertical-align: middle;\n",
              "    }\n",
              "\n",
              "    .dataframe tbody tr th {\n",
              "        vertical-align: top;\n",
              "    }\n",
              "\n",
              "    .dataframe thead th {\n",
              "        text-align: right;\n",
              "    }\n",
              "</style>\n",
              "<table border=\"1\" class=\"dataframe\">\n",
              "  <thead>\n",
              "    <tr style=\"text-align: right;\">\n",
              "      <th></th>\n",
              "      <th>spend</th>\n",
              "      <th>age</th>\n",
              "    </tr>\n",
              "  </thead>\n",
              "  <tbody>\n",
              "    <tr>\n",
              "      <th>count</th>\n",
              "      <td>1000.000000</td>\n",
              "      <td>1000.00000</td>\n",
              "    </tr>\n",
              "    <tr>\n",
              "      <th>mean</th>\n",
              "      <td>2907.468000</td>\n",
              "      <td>39.99600</td>\n",
              "    </tr>\n",
              "    <tr>\n",
              "      <th>std</th>\n",
              "      <td>168.091534</td>\n",
              "      <td>9.55538</td>\n",
              "    </tr>\n",
              "    <tr>\n",
              "      <th>min</th>\n",
              "      <td>2073.000000</td>\n",
              "      <td>18.00000</td>\n",
              "    </tr>\n",
              "    <tr>\n",
              "      <th>25%</th>\n",
              "      <td>2832.500000</td>\n",
              "      <td>33.00000</td>\n",
              "    </tr>\n",
              "    <tr>\n",
              "      <th>50%</th>\n",
              "      <td>2934.000000</td>\n",
              "      <td>40.00000</td>\n",
              "    </tr>\n",
              "    <tr>\n",
              "      <th>75%</th>\n",
              "      <td>3017.000000</td>\n",
              "      <td>47.00000</td>\n",
              "    </tr>\n",
              "    <tr>\n",
              "      <th>max</th>\n",
              "      <td>3274.000000</td>\n",
              "      <td>70.00000</td>\n",
              "    </tr>\n",
              "  </tbody>\n",
              "</table>\n",
              "</div>"
            ],
            "text/plain": [
              "             spend         age\n",
              "count  1000.000000  1000.00000\n",
              "mean   2907.468000    39.99600\n",
              "std     168.091534     9.55538\n",
              "min    2073.000000    18.00000\n",
              "25%    2832.500000    33.00000\n",
              "50%    2934.000000    40.00000\n",
              "75%    3017.000000    47.00000\n",
              "max    3274.000000    70.00000"
            ]
          },
          "metadata": {
            "tags": []
          },
          "execution_count": 12
        }
      ]
    },
    {
      "cell_type": "markdown",
      "metadata": {
        "id": "jwM8MHmxTjfr"
      },
      "source": [
        "# Splitting the dataset into the Training set and Test set"
      ]
    },
    {
      "cell_type": "code",
      "metadata": {
        "id": "45Wfxe9DSnhu"
      },
      "source": [
        "from sklearn.model_selection import train_test_split\n",
        "X = df[['age']].values\n",
        "y= df[['spend']].values\n",
        "\n",
        "X_train, X_test, y_train, y_test = train_test_split(X,y, test_size = 0.2, random_state = 10)"
      ],
      "execution_count": null,
      "outputs": []
    },
    {
      "cell_type": "code",
      "metadata": {
        "colab": {
          "base_uri": "https://localhost:8080/"
        },
        "id": "NI7TV2ykYjpL",
        "outputId": "3a1908bd-7603-4ba3-cb52-9f5800981c36"
      },
      "source": [
        "type(X)"
      ],
      "execution_count": null,
      "outputs": [
        {
          "output_type": "execute_result",
          "data": {
            "text/plain": [
              "numpy.ndarray"
            ]
          },
          "metadata": {
            "tags": []
          },
          "execution_count": 22
        }
      ]
    },
    {
      "cell_type": "markdown",
      "metadata": {
        "id": "P8cwRTElUKeR"
      },
      "source": [
        "# Apply DecisionTree Model"
      ]
    },
    {
      "cell_type": "code",
      "metadata": {
        "colab": {
          "base_uri": "https://localhost:8080/"
        },
        "id": "11V2zlXIUIbC",
        "outputId": "110b701f-02ba-457d-d934-d9975f8de236"
      },
      "source": [
        "from sklearn.tree import DecisionTreeRegressor\n",
        "dt_regressor = DecisionTreeRegressor()\n",
        "\n",
        "max2_tree_model = DecisionTreeRegressor(max_depth = 2)\n",
        "max2_tree_model.fit(X_train, y_train)\n",
        "\n",
        "max5_tree_model = DecisionTreeRegressor(max_depth = 5)\n",
        "max5_tree_model.fit(X_train, y_train)"
      ],
      "execution_count": null,
      "outputs": [
        {
          "output_type": "execute_result",
          "data": {
            "text/plain": [
              "DecisionTreeRegressor(ccp_alpha=0.0, criterion='mse', max_depth=5,\n",
              "                      max_features=None, max_leaf_nodes=None,\n",
              "                      min_impurity_decrease=0.0, min_impurity_split=None,\n",
              "                      min_samples_leaf=1, min_samples_split=2,\n",
              "                      min_weight_fraction_leaf=0.0, presort='deprecated',\n",
              "                      random_state=None, splitter='best')"
            ]
          },
          "metadata": {
            "tags": []
          },
          "execution_count": 21
        }
      ]
    },
    {
      "cell_type": "markdown",
      "metadata": {
        "id": "v4v4-PP3VNSH"
      },
      "source": [
        "# Apply Linear Regression Model"
      ]
    },
    {
      "cell_type": "code",
      "metadata": {
        "colab": {
          "base_uri": "https://localhost:8080/"
        },
        "id": "Uvsa7K7IUx6Z",
        "outputId": "b06757b7-756b-434d-ceeb-4b7b4bfd18f7"
      },
      "source": [
        "from sklearn.linear_model import LinearRegression\n",
        "\n",
        "linear_model = LinearRegression()\n",
        "linear_model.fit(X_train, y_train)"
      ],
      "execution_count": null,
      "outputs": [
        {
          "output_type": "execute_result",
          "data": {
            "text/plain": [
              "LinearRegression(copy_X=True, fit_intercept=True, n_jobs=None, normalize=False)"
            ]
          },
          "metadata": {
            "tags": []
          },
          "execution_count": 9
        }
      ]
    },
    {
      "cell_type": "markdown",
      "metadata": {
        "id": "ii1ENYSnVr3S"
      },
      "source": [
        "# Evaluate Two Modelds by Metrics"
      ]
    },
    {
      "cell_type": "code",
      "metadata": {
        "colab": {
          "base_uri": "https://localhost:8080/"
        },
        "id": "mX8mgsa9VgJ8",
        "outputId": "1c556c1d-7b73-429a-9c0f-032e0bba63dd"
      },
      "source": [
        "from sklearn.metrics import mean_squared_error\n",
        "\n",
        "linear_predictions = linear_model.predict(X_test)\n",
        "print('Linear RMSE: ' + str(mean_squared_error(linear_predictions, y_test)**0.5))\n",
        "\n",
        "max2_tree_predictions = max2_tree_model.predict(X_test)\n",
        "print('Tree with max depth of 2 RMSE: ' + str(mean_squared_error(max2_tree_predictions, y_test)**0.5))\n",
        "\n",
        "max5_tree_predictions = max5_tree_model.predict(X_test)\n",
        "print('Tree with max depth of 5 RMSE: ' + str(mean_squared_error(max5_tree_predictions, y_test)**0.5))"
      ],
      "execution_count": null,
      "outputs": [
        {
          "output_type": "stream",
          "text": [
            "Linear RMSE: 159.35769095355172\n",
            "Tree with max depth of 2 RMSE: 129.1257035576988\n",
            "Tree with max depth of 5 RMSE: 112.33385352251217\n"
          ],
          "name": "stdout"
        }
      ]
    },
    {
      "cell_type": "markdown",
      "metadata": {
        "id": "UE5YswTJWVWC"
      },
      "source": [
        "## Result: decision tree with depth of 5 has the least error"
      ]
    },
    {
      "cell_type": "markdown",
      "metadata": {
        "id": "KQ1EnWgmWugb"
      },
      "source": [
        "# Evaluate the Results by Visualization"
      ]
    },
    {
      "cell_type": "code",
      "metadata": {
        "id": "AW8oJihmV5Op"
      },
      "source": [
        "import matplotlib.pyplot as plt\n",
        "%matplotlib inline\n",
        "\n",
        "ages = pd.DataFrame({'age': range(18, 70)})"
      ],
      "execution_count": null,
      "outputs": []
    },
    {
      "cell_type": "markdown",
      "metadata": {
        "id": "cFYbt7M4ZpYP"
      },
      "source": [
        "## Visualize Results of Linear Model"
      ]
    },
    {
      "cell_type": "code",
      "metadata": {
        "colab": {
          "base_uri": "https://localhost:8080/",
          "height": 265
        },
        "id": "CHOfZhg1XIMz",
        "outputId": "d5a159b7-58eb-44ef-d988-990a60888f29"
      },
      "source": [
        "plt.scatter(X_test, y_test)\n",
        "plt.plot(ages,linear_model.predict(ages), color='r', linewidth=5)\n",
        "plt.show()\n"
      ],
      "execution_count": null,
      "outputs": [
        {
          "output_type": "display_data",
          "data": {
            "image/png": "[encoded data removed]",
            "text/plain": [
              "<Figure size 432x288 with 1 Axes>"
            ]
          },
          "metadata": {
            "tags": [],
            "needs_background": "light"
          }
        }
      ]
    },
    {
      "cell_type": "markdown",
      "metadata": {
        "id": "I9C39-DvZvli"
      },
      "source": [
        "### Results:  \n",
        "\n",
        "\n",
        "> Shows the predictions as a flat line of the linear regression model across the age range\n",
        "\n",
        "\n",
        "> It's unable to capture the fact that ppl aged around 40 spend more while younger and older than 40 spend less"
      ]
    },
    {
      "cell_type": "markdown",
      "metadata": {
        "id": "ij9lmifBaECD"
      },
      "source": [
        "## Visualize Results of Tree Model by depth of 2"
      ]
    },
    {
      "cell_type": "code",
      "metadata": {
        "colab": {
          "base_uri": "https://localhost:8080/",
          "height": 265
        },
        "id": "w4JkhYvdXWuF",
        "outputId": "f195c9ac-bdda-445b-ef4b-92090af9f9cd"
      },
      "source": [
        "plt.scatter(X_test, y_test)\n",
        "plt.plot(ages,max2_tree_model.predict(ages), color='g',linewidth=5)\n",
        "plt.show()"
      ],
      "execution_count": null,
      "outputs": [
        {
          "output_type": "display_data",
          "data": {
            "image/png": "[encoded data removed]",
            "text/plain": [
              "<Figure size 432x288 with 1 Axes>"
            ]
          },
          "metadata": {
            "tags": [],
            "needs_background": "light"
          }
        }
      ]
    },
    {
      "cell_type": "markdown",
      "metadata": {
        "id": "OS-M01bMa4Kx"
      },
      "source": [
        "### Results:\n",
        "\n",
        "\n",
        "> This model does a better job of capturing the relationship though it does not capture the sharp increase and decrease in the youngest and oldest population\n",
        "\n"
      ]
    },
    {
      "cell_type": "markdown",
      "metadata": {
        "id": "zWvE3Fe-bUDx"
      },
      "source": [
        "## Visualize Results of Tree Model by depth of 5"
      ]
    },
    {
      "cell_type": "code",
      "metadata": {
        "colab": {
          "base_uri": "https://localhost:8080/",
          "height": 265
        },
        "id": "_GcCNpFwawOj",
        "outputId": "277fcc59-4b65-48be-c01a-003f7f550e86"
      },
      "source": [
        "plt.scatter(X_test, y_test)\n",
        "plt.plot(ages,max5_tree_model.predict(ages), color='k',linewidth=5)\n",
        "plt.show()"
      ],
      "execution_count": null,
      "outputs": [
        {
          "output_type": "display_data",
          "data": {
            "image/png": "[encoded data removed]",
            "text/plain": [
              "<Figure size 432x288 with 1 Axes>"
            ]
          },
          "metadata": {
            "tags": [],
            "needs_background": "light"
          }
        }
      ]
    },
    {
      "cell_type": "markdown",
      "metadata": {
        "id": "g9Uv8B39bvCn"
      },
      "source": [
        "### Results:\n",
        "\n",
        "\n",
        "> This model does a even better job of capturing the relationship properly \n",
        "\n"
      ]
    },
    {
      "cell_type": "markdown",
      "metadata": {
        "id": "wNIc-bIucIpc"
      },
      "source": [
        "# Apply Random Forest Regression"
      ]
    },
    {
      "cell_type": "code",
      "metadata": {
        "colab": {
          "base_uri": "https://localhost:8080/"
        },
        "id": "it8HVublbY4V",
        "outputId": "b070a97f-1e2d-485c-e0e4-abd1dee5a473"
      },
      "source": [
        "from sklearn.ensemble import RandomForestRegressor\n",
        "\n",
        "max2_forest_model = RandomForestRegressor(max_depth=2, random_state=10)\n",
        "max2_forest_model.fit(X_train,y_train)\n",
        "\n",
        "max5_forest_model = RandomForestRegressor(max_depth=5, random_state=10)\n",
        "max5_forest_model.fit(X_train,y_train)"
      ],
      "execution_count": null,
      "outputs": [
        {
          "output_type": "stream",
          "text": [
            "/usr/local/lib/python3.7/dist-packages/ipykernel_launcher.py:4: DataConversionWarning: A column-vector y was passed when a 1d array was expected. Please change the shape of y to (n_samples,), for example using ravel().\n",
            "  after removing the cwd from sys.path.\n",
            "/usr/local/lib/python3.7/dist-packages/ipykernel_launcher.py:7: DataConversionWarning: A column-vector y was passed when a 1d array was expected. Please change the shape of y to (n_samples,), for example using ravel().\n",
            "  import sys\n"
          ],
          "name": "stderr"
        },
        {
          "output_type": "execute_result",
          "data": {
            "text/plain": [
              "RandomForestRegressor(bootstrap=True, ccp_alpha=0.0, criterion='mse',\n",
              "                      max_depth=5, max_features='auto', max_leaf_nodes=None,\n",
              "                      max_samples=None, min_impurity_decrease=0.0,\n",
              "                      min_impurity_split=None, min_samples_leaf=1,\n",
              "                      min_samples_split=2, min_weight_fraction_leaf=0.0,\n",
              "                      n_estimators=100, n_jobs=None, oob_score=False,\n",
              "                      random_state=10, verbose=0, warm_start=False)"
            ]
          },
          "metadata": {
            "tags": []
          },
          "execution_count": 30
        }
      ]
    },
    {
      "cell_type": "markdown",
      "metadata": {
        "id": "xbV-QjnZcaXM"
      },
      "source": [
        "## Evaluate the Model by Metrics"
      ]
    },
    {
      "cell_type": "code",
      "metadata": {
        "colab": {
          "base_uri": "https://localhost:8080/"
        },
        "id": "hsO3Zxe_cSk-",
        "outputId": "3da923b9-b272-4d34-a54e-3028b014313f"
      },
      "source": [
        "max2_forest_predictions = max2_forest_model.predict(X_test)\n",
        "print('Max depth of 2 RMSE: ' + str(mean_squared_error(max2_forest_predictions, y_test)**0.5))\n",
        "\n",
        "max5_forest_predictions = max5_forest_model.predict(X_test)\n",
        "print('Max depth of 5 RMSE: ' + str(mean_squared_error(max5_forest_predictions, y_test)**0.5))"
      ],
      "execution_count": null,
      "outputs": [
        {
          "output_type": "stream",
          "text": [
            "Max depth of 2 RMSE: 119.1779052503668\n",
            "Max depth of 5 RMSE: 111.70349770960156\n"
          ],
          "name": "stdout"
        }
      ]
    },
    {
      "cell_type": "markdown",
      "metadata": {
        "id": "N6-JEV1zdOX8"
      },
      "source": [
        "### Result: both better than DecisionTree Model"
      ]
    },
    {
      "cell_type": "markdown",
      "metadata": {
        "id": "zLuceSFWcpne"
      },
      "source": [
        "## Evaluate the Model by Visualization"
      ]
    },
    {
      "cell_type": "code",
      "metadata": {
        "colab": {
          "base_uri": "https://localhost:8080/",
          "height": 265
        },
        "id": "rkb3IZI6cgNB",
        "outputId": "589114c2-4d64-4875-f27e-a9b3ceb53137"
      },
      "source": [
        "plt.scatter(X_test, y_test)\n",
        "plt.plot(ages,max2_forest_model.predict(ages), color='c',linewidth=5)\n",
        "plt.show()"
      ],
      "execution_count": null,
      "outputs": [
        {
          "output_type": "display_data",
          "data": {
            "image/png": "[encoded data removed]",
            "text/plain": [
              "<Figure size 432x288 with 1 Axes>"
            ]
          },
          "metadata": {
            "tags": [],
            "needs_background": "light"
          }
        }
      ]
    },
    {
      "cell_type": "code",
      "metadata": {
        "colab": {
          "base_uri": "https://localhost:8080/",
          "height": 265
        },
        "id": "fE9_P1oPcxRO",
        "outputId": "f5704bac-d138-4343-f76f-52ac544d2df3"
      },
      "source": [
        "plt.scatter(X_test, y_test)\n",
        "plt.plot(ages,max5_forest_model.predict(ages), color='m',linewidth=5)\n",
        "plt.show()"
      ],
      "execution_count": null,
      "outputs": [
        {
          "output_type": "display_data",
          "data": {
            "image/png": "[encoded data removed]",
            "text/plain": [
              "<Figure size 432x288 with 1 Axes>"
            ]
          },
          "metadata": {
            "tags": [],
            "needs_background": "light"
          }
        }
      ]
    },
    {
      "cell_type": "code",
      "metadata": {
        "id": "Xc5dCeRldiPy"
      },
      "source": [
        ""
      ],
      "execution_count": null,
      "outputs": []
    }
  ]
}